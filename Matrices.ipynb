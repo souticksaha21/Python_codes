{
 "cells": [
  {
   "cell_type": "code",
   "execution_count": 1,
   "id": "ff1e4314",
   "metadata": {},
   "outputs": [],
   "source": [
    "#This notebook tells us how to manipulate matrices in python \n",
    "#(Source : https://www.programiz.com/python-programming/matrix)"
   ]
  },
  {
   "cell_type": "code",
   "execution_count": 19,
   "id": "4eef6146",
   "metadata": {},
   "outputs": [],
   "source": [
    "#Importing necessary packages\n",
    "import numpy as np"
   ]
  },
  {
   "cell_type": "code",
   "execution_count": 20,
   "id": "1fd2ed97",
   "metadata": {},
   "outputs": [
    {
     "name": "stdout",
     "output_type": "stream",
     "text": [
      "[[ 2  4  6]\n",
      " [ 5 -6  1]]\n"
     ]
    }
   ],
   "source": [
    "#Deifing 3X2 matrix\n",
    "A = np.array([[2, 4, 6], [5, -6, 1]])\n",
    "print(A)\n"
   ]
  },
  {
   "cell_type": "code",
   "execution_count": 21,
   "id": "6a52f3de",
   "metadata": {},
   "outputs": [
    {
     "name": "stdout",
     "output_type": "stream",
     "text": [
      "[ 5 -6  1]\n"
     ]
    }
   ],
   "source": [
    "print(A[1])"
   ]
  },
  {
   "cell_type": "code",
   "execution_count": 22,
   "id": "912820a5",
   "metadata": {},
   "outputs": [
    {
     "name": "stdout",
     "output_type": "stream",
     "text": [
      "[2 4 6]\n"
     ]
    }
   ],
   "source": [
    "print(A[0])"
   ]
  },
  {
   "cell_type": "code",
   "execution_count": 23,
   "id": "f4dddaa3",
   "metadata": {},
   "outputs": [
    {
     "name": "stdout",
     "output_type": "stream",
     "text": [
      "1\n"
     ]
    }
   ],
   "source": [
    "print(A[1][2])"
   ]
  },
  {
   "cell_type": "code",
   "execution_count": 24,
   "id": "5df2ca6f",
   "metadata": {},
   "outputs": [],
   "source": [
    "#Editing a particular element of A\n",
    "A[1][1]=10"
   ]
  },
  {
   "cell_type": "code",
   "execution_count": 25,
   "id": "88e31bd9",
   "metadata": {},
   "outputs": [
    {
     "name": "stdout",
     "output_type": "stream",
     "text": [
      "[[ 2  4  6]\n",
      " [ 5 10  1]]\n"
     ]
    }
   ],
   "source": [
    "print(A)"
   ]
  },
  {
   "cell_type": "code",
   "execution_count": 28,
   "id": "a366111f",
   "metadata": {},
   "outputs": [],
   "source": [
    "#Defining a second array\n",
    "B = np.array([[-1, 5, 10], [2, -3, 1]])"
   ]
  },
  {
   "cell_type": "code",
   "execution_count": 30,
   "id": "e3bb8aba",
   "metadata": {},
   "outputs": [
    {
     "name": "stdout",
     "output_type": "stream",
     "text": [
      "A= [[ 2  4  6]\n",
      " [ 5 10  1]]\n",
      "B= [[-1  5 10]\n",
      " [ 2 -3  1]]\n",
      "A+B= [[ 1  9 16]\n",
      " [ 7  7  2]]\n"
     ]
    }
   ],
   "source": [
    "#sum of two matrices\n",
    "C=A+B\n",
    "print(\"A=\",A)\n",
    "print(\"B=\",B)\n",
    "print(\"A+B=\",C)"
   ]
  },
  {
   "cell_type": "code",
   "execution_count": 31,
   "id": "2e585ca8",
   "metadata": {},
   "outputs": [
    {
     "name": "stdout",
     "output_type": "stream",
     "text": [
      "B= [[-1  5 10]\n",
      " [ 2 -3  1]]\n",
      "B_T= [[-1  2]\n",
      " [ 5 -3]\n",
      " [10  1]]\n"
     ]
    }
   ],
   "source": [
    "#Transposing a matrix\n",
    "BT=B.transpose()\n",
    "print(\"B=\",B)\n",
    "print(\"B_T=\",BT)"
   ]
  },
  {
   "cell_type": "code",
   "execution_count": 32,
   "id": "ac3e9714",
   "metadata": {},
   "outputs": [
    {
     "name": "stdout",
     "output_type": "stream",
     "text": [
      "AXB= [[ 78  -2]\n",
      " [ 55 -19]]\n"
     ]
    }
   ],
   "source": [
    "#matrix multiplication\n",
    "D=A.dot(BT)\n",
    "print(\"AXB=\",D)"
   ]
  },
  {
   "cell_type": "code",
   "execution_count": 33,
   "id": "81a78611",
   "metadata": {},
   "outputs": [
    {
     "name": "stdout",
     "output_type": "stream",
     "text": [
      "1\n"
     ]
    }
   ],
   "source": [
    "#Last element of last row is\n",
    "print(A[-1][-1])"
   ]
  },
  {
   "cell_type": "code",
   "execution_count": 35,
   "id": "e0ef68e4",
   "metadata": {},
   "outputs": [
    {
     "name": "stdout",
     "output_type": "stream",
     "text": [
      "[78 -2]\n",
      "[ 55 -19]\n"
     ]
    }
   ],
   "source": [
    "#rows of matrix\n",
    "print(D[0]) #first row\n",
    "print(D[-1]) #last row"
   ]
  },
  {
   "cell_type": "code",
   "execution_count": 37,
   "id": "fed1378b",
   "metadata": {},
   "outputs": [
    {
     "name": "stdout",
     "output_type": "stream",
     "text": [
      "[ -2 -19]\n",
      "[2 5]\n"
     ]
    }
   ],
   "source": [
    "#columns of a matrix\n",
    "print(D[:,1]) #second column\n",
    "print(A[:,0]) #first column"
   ]
  },
  {
   "cell_type": "code",
   "execution_count": 38,
   "id": "c3f1fb3c",
   "metadata": {},
   "outputs": [],
   "source": [
    "#slicing of a matrix\n",
    "L=np.array([1,2,3,4,5,6,7,7,8,9,8])"
   ]
  },
  {
   "cell_type": "code",
   "execution_count": 39,
   "id": "b3154609",
   "metadata": {},
   "outputs": [
    {
     "name": "stdout",
     "output_type": "stream",
     "text": [
      "[1 2 3]\n"
     ]
    }
   ],
   "source": [
    "print(L[:3]) #print elements indexed 0,1,2"
   ]
  },
  {
   "cell_type": "code",
   "execution_count": 40,
   "id": "90f79f44",
   "metadata": {},
   "outputs": [
    {
     "name": "stdout",
     "output_type": "stream",
     "text": [
      "[2 3 4]\n"
     ]
    }
   ],
   "source": [
    "print(L[1:4]) #print elements indexed 1,2,3"
   ]
  },
  {
   "cell_type": "code",
   "execution_count": 41,
   "id": "60bee5b7",
   "metadata": {},
   "outputs": [
    {
     "name": "stdout",
     "output_type": "stream",
     "text": [
      "[3 4 5 6 7 7 8 9 8]\n"
     ]
    }
   ],
   "source": [
    "print(L[2:]) #print elements from index 2"
   ]
  },
  {
   "cell_type": "code",
   "execution_count": 45,
   "id": "bf09ca16",
   "metadata": {},
   "outputs": [
    {
     "name": "stdout",
     "output_type": "stream",
     "text": [
      "[[ 1  4  5 12]\n",
      " [-5  8  9  0]]\n"
     ]
    }
   ],
   "source": [
    "#New matrix\n",
    "A1 = np.array([[1, 4, 5, 12, 14], \n",
    "    [-5, 8, 9, 0, 17],\n",
    "    [-6, 7, 11, 19, 21]])\n",
    "\n",
    "print(A1[:2, :4])"
   ]
  },
  {
   "cell_type": "code",
   "execution_count": 46,
   "id": "f2489cae",
   "metadata": {},
   "outputs": [
    {
     "name": "stdout",
     "output_type": "stream",
     "text": [
      "[[ 0 17]\n",
      " [19 21]]\n"
     ]
    }
   ],
   "source": [
    "print(A1[1:,3:])"
   ]
  },
  {
   "cell_type": "code",
   "execution_count": 48,
   "id": "cdc9329a",
   "metadata": {},
   "outputs": [
    {
     "name": "stdout",
     "output_type": "stream",
     "text": [
      "[[ 1  4  5 12 14]\n",
      " [-5  8  9  0 17]\n",
      " [-6  7 11 19 21]\n",
      " [ 1  2  3  4  5]]\n"
     ]
    }
   ],
   "source": [
    "#Adding a new row (https://stackoverflow.com/questions/3881453/numpy-add-row-to-array)\n",
    "newrow = [1,2,3,4,5]\n",
    "A1 = np.vstack([A1, newrow])\n",
    "print(A1)"
   ]
  },
  {
   "cell_type": "code",
   "execution_count": 50,
   "id": "71f6b4b8",
   "metadata": {},
   "outputs": [
    {
     "name": "stdout",
     "output_type": "stream",
     "text": [
      "[[ 1  4  5 12 14  3]\n",
      " [-5  8  9  0 17  6]\n",
      " [-6  7 11 19 21  3]\n",
      " [ 1  2  3  4  5  8]]\n"
     ]
    }
   ],
   "source": [
    "#Adding a column (https://www.kite.com/python/answers/how-to-add-a-column-to-a-numpy-array-in-python)\n",
    "new_column = [[3], [6], [3], [8]]\n",
    "A1 = np.append(A1, new_column, axis=1)\n",
    "print(A1)"
   ]
  },
  {
   "cell_type": "code",
   "execution_count": 53,
   "id": "b56e53d1",
   "metadata": {},
   "outputs": [
    {
     "name": "stdout",
     "output_type": "stream",
     "text": [
      "4\n",
      "6\n"
     ]
    }
   ],
   "source": [
    "#Dimensions\n",
    "print(len(A1)) #number of rows\n",
    "print(len(A1[0])) #number of columns"
   ]
  },
  {
   "cell_type": "code",
   "execution_count": 54,
   "id": "bca5f2a7",
   "metadata": {},
   "outputs": [
    {
     "name": "stdout",
     "output_type": "stream",
     "text": [
      "[[0. 0. 0.]\n",
      " [0. 0. 0.]]\n"
     ]
    }
   ],
   "source": [
    "#Create an array of zeroes\n",
    "D1=np.zeros((2, 3))\n",
    "print(D1)"
   ]
  },
  {
   "cell_type": "code",
   "execution_count": null,
   "id": "724f786a",
   "metadata": {},
   "outputs": [],
   "source": []
  }
 ],
 "metadata": {
  "kernelspec": {
   "display_name": "Python 3",
   "language": "python",
   "name": "python3"
  },
  "language_info": {
   "codemirror_mode": {
    "name": "ipython",
    "version": 3
   },
   "file_extension": ".py",
   "mimetype": "text/x-python",
   "name": "python",
   "nbconvert_exporter": "python",
   "pygments_lexer": "ipython3",
   "version": "3.8.8"
  }
 },
 "nbformat": 4,
 "nbformat_minor": 5
}
