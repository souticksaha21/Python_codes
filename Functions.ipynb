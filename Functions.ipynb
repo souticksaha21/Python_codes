{
 "cells": [
  {
   "cell_type": "code",
   "execution_count": 1,
   "id": "6f4d3fa2",
   "metadata": {},
   "outputs": [],
   "source": [
    "#This notebook tells us how to write functions in python"
   ]
  },
  {
   "cell_type": "code",
   "execution_count": 2,
   "id": "1b185164",
   "metadata": {},
   "outputs": [],
   "source": [
    "#writing a function to return a statement\n",
    "def statement():\n",
    "    print(\"This is a statement\")"
   ]
  },
  {
   "cell_type": "code",
   "execution_count": 3,
   "id": "941ab981",
   "metadata": {},
   "outputs": [
    {
     "name": "stdout",
     "output_type": "stream",
     "text": [
      "This is a statement\n"
     ]
    }
   ],
   "source": [
    "statement()"
   ]
  },
  {
   "cell_type": "code",
   "execution_count": 8,
   "id": "f1307696",
   "metadata": {},
   "outputs": [],
   "source": [
    "#Defining a statement with an input\n",
    "def my_name_is(x):\n",
    "    a=\"My name is \"+x+'.'\n",
    "    print(a)"
   ]
  },
  {
   "cell_type": "code",
   "execution_count": 9,
   "id": "88a7ebbc",
   "metadata": {},
   "outputs": [
    {
     "name": "stdout",
     "output_type": "stream",
     "text": [
      "My name is Soutick.\n"
     ]
    }
   ],
   "source": [
    "my_name_is('Soutick')"
   ]
  },
  {
   "cell_type": "code",
   "execution_count": 10,
   "id": "3553f4e3",
   "metadata": {},
   "outputs": [],
   "source": [
    "#Defining a function to return sum of two numbers\n",
    "def sum_of(a,b):\n",
    "    return a+b"
   ]
  },
  {
   "cell_type": "code",
   "execution_count": 11,
   "id": "be271dfb",
   "metadata": {},
   "outputs": [
    {
     "data": {
      "text/plain": [
       "5"
      ]
     },
     "execution_count": 11,
     "metadata": {},
     "output_type": "execute_result"
    }
   ],
   "source": [
    "sum_of(2,3)"
   ]
  },
  {
   "cell_type": "code",
   "execution_count": null,
   "id": "789fe6bc",
   "metadata": {},
   "outputs": [],
   "source": []
  }
 ],
 "metadata": {
  "kernelspec": {
   "display_name": "Python 3",
   "language": "python",
   "name": "python3"
  },
  "language_info": {
   "codemirror_mode": {
    "name": "ipython",
    "version": 3
   },
   "file_extension": ".py",
   "mimetype": "text/x-python",
   "name": "python",
   "nbconvert_exporter": "python",
   "pygments_lexer": "ipython3",
   "version": "3.8.8"
  }
 },
 "nbformat": 4,
 "nbformat_minor": 5
}
