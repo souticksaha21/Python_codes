{
 "cells": [
  {
   "cell_type": "markdown",
   "id": "25177569",
   "metadata": {},
   "source": [
    "# This code detects QR codes and loads the time and place of detection and local time zone, and information in the QR code in a CSV file.\n",
    "Video Demo - https://youtu.be/quXhBClXeO0"
   ]
  },
  {
   "cell_type": "code",
   "execution_count": null,
   "id": "9ddeefbc",
   "metadata": {},
   "outputs": [],
   "source": [
    "#Import libraries\n",
    "import cv2, time\n",
    "from pyzbar import pyzbar\n",
    "from datetime import datetime"
   ]
  },
  {
   "cell_type": "markdown",
   "id": "49406a31",
   "metadata": {},
   "source": [
    "## Getting the local time zone"
   ]
  },
  {
   "cell_type": "code",
   "execution_count": null,
   "id": "660b8848",
   "metadata": {},
   "outputs": [],
   "source": [
    "# importing module\n",
    "import geocoder \n",
    "from timezonefinder import TimezoneFinder\n",
    "from geopy.geocoders import Nominatim\n",
    "geolocator = Nominatim(user_agent=\"geoapiExercises\")\n",
    "# Latitude & Longitude input\n",
    "Latitude = str(geocoder.ip('me').latlng[0])\n",
    "Longitude = str(geocoder.ip('me').latlng[1])\n",
    "location = geolocator.reverse(Latitude+\",\"+Longitude)\n",
    "# object creation\n",
    "obj = TimezoneFinder()\n",
    "Local_Time_Zone = obj.timezone_at(lng=geocoder.ip('me').latlng[1], lat=geocoder.ip('me').latlng[0])\n",
    "print(\"Time Zone : \", Local_Time_Zone)"
   ]
  },
  {
   "cell_type": "markdown",
   "id": "e744a526",
   "metadata": {},
   "source": [
    "## Getting the location of experiment"
   ]
  },
  {
   "cell_type": "code",
   "execution_count": null,
   "id": "66e55714",
   "metadata": {},
   "outputs": [],
   "source": [
    "file = open(\"QR_code_Result.txt\",'w')\n",
    "file.write(\"Time Zone = \"+str(Local_Time_Zone)+\"\\n\")\n",
    "file.write(\"\\n\")\n",
    "file.write(\"Location of experiment = \"+str(location)+\"\\n\")\n",
    "file.write(\"\\n\")"
   ]
  },
  {
   "cell_type": "markdown",
   "id": "55765957",
   "metadata": {},
   "source": [
    "## Import pandas for saving data to CSV file"
   ]
  },
  {
   "cell_type": "code",
   "execution_count": null,
   "id": "279212f9",
   "metadata": {},
   "outputs": [],
   "source": [
    "import pandas\n",
    "time=datetime.now()\n",
    "dod=str(time.month)+\"_\"+str(time.day)+\"_\"+str(time.year)\n",
    "tod=str(time.hour)+\"_\"+str(time.minute)+\"_\"+str(time.second)+\"_\"+str(time.microsecond)\n",
    "fname=\"Time_and_date_of_detection_\"+dod+\"_\"+tod+\".csv\";\n",
    "df = pandas.DataFrame(list())\n",
    "df.to_csv(fname)"
   ]
  },
  {
   "cell_type": "markdown",
   "id": "0179a147",
   "metadata": {},
   "source": [
    "## The code below turns on a camera and extracts the QR code"
   ]
  },
  {
   "cell_type": "code",
   "execution_count": null,
   "id": "99775a76",
   "metadata": {},
   "outputs": [],
   "source": [
    "def main():\n",
    "    #1\n",
    "    frame_no=0;\n",
    "    camera = cv2.VideoCapture(0) # cv2.VideoCapture(1) for external camera and cv2.VideoCapture(0) for laptop camera\n",
    "    ret, frame = camera.read()\n",
    "    QRlist=[]\n",
    "    timelist=[]\n",
    "    df2 = pandas.DataFrame(columns = [\"frame number\",\"Date of detection\",\"Time of detection\", \"Location\",\"Time Zone\",\"QR Code reading\",\"x\",\"y\",\"w\",\"h\"])\n",
    "    #frame_no=camera.get(cv2.CAP_PROP_POS_FRAMES);\n",
    "\n",
    "    #2\n",
    "    while ret:\n",
    "        frame_no+=1;\n",
    "        ret, frame = camera.read()\n",
    "        QRcodes = pyzbar.decode(frame)\n",
    "        #Enter a snippet of code here to detect bags etc.\n",
    "        for QRcode in QRcodes:\n",
    "            x, y , w, h = QRcode.rect\n",
    "            #1\n",
    "            QRcode_info = QRcode.data.decode('utf-8')\n",
    "            cv2.rectangle(frame, (x, y),(x+w, y+h), (255, 0, 0), 4)\n",
    "            QRlist.append(QRcode_info)\n",
    "            timelist.append(datetime.now())\n",
    "            #2\n",
    "            font = cv2.FONT_HERSHEY_DUPLEX\n",
    "            cv2.putText(frame, QRcode_info, (x + 6, y - 6), font, 2.0, (255, 0, 0), 2)\n",
    "            time=datetime.now()\n",
    "            file.write(\"Recognized QR code = \" + QRcode_info+\"\\n\")\n",
    "            file.write(\"Date of detection = \" +str(time.month)+\"/\"+str(time.day)+\"/\"+str(time.year)+\"\\n\")\n",
    "            file.write(\"Time of detection = \" +str(time.hour)+\":\"+str(time.minute)+\":\"+str(time.second)+\":\"+str(time.microsecond)+\"\\n\")\n",
    "            file.write(\"frame number = \" + str(frame_no)+\"\\n\")\n",
    "            file.write(\"\\n\")\n",
    "            dod=str(time.month)+\"/\"+str(time.day)+\"/\"+str(time.year)\n",
    "            tod=str(time.hour)+\":\"+str(time.minute)+\":\"+str(time.second)+\":\"+str(time.microsecond)\n",
    "            df2 = df2.append({\"frame number\":frame_no,\"Date of detection\":dod,\"Time of detection\":tod, \"Location\":str(location),\"Time Zone\":str(Local_Time_Zone),\"QR Code reading\":QRcode_info,\"x\":x,\"y\":y,\"w\":w,\"h\":h}, ignore_index = True)\n",
    "            \n",
    "        cv2.imshow('QR code reader', frame)\n",
    "        if cv2.waitKey(1) & 0xFF == 27:\n",
    "            break\n",
    "    \n",
    "        \n",
    "    camera.release()\n",
    "    cv2.destroyAllWindows()\n",
    "    df2.to_csv(fname)\n",
    "#4\n",
    "if __name__ == '__main__':\n",
    "    main()\n",
    "    "
   ]
  },
  {
   "cell_type": "code",
   "execution_count": null,
   "id": "a542d9b2",
   "metadata": {},
   "outputs": [],
   "source": []
  }
 ],
 "metadata": {
  "kernelspec": {
   "display_name": "Python 3",
   "language": "python",
   "name": "python3"
  },
  "language_info": {
   "codemirror_mode": {
    "name": "ipython",
    "version": 3
   },
   "file_extension": ".py",
   "mimetype": "text/x-python",
   "name": "python",
   "nbconvert_exporter": "python",
   "pygments_lexer": "ipython3",
   "version": "3.8.8"
  }
 },
 "nbformat": 4,
 "nbformat_minor": 5
}
